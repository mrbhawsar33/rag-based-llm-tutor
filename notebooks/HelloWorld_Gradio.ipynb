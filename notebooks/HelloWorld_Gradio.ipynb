{
 "cells": [
  {
   "cell_type": "code",
   "execution_count": 1,
   "id": "24f09376",
   "metadata": {},
   "outputs": [
    {
     "name": "stderr",
     "output_type": "stream",
     "text": [
      "WARNING: Ignoring invalid distribution -pencv-python (c:\\users\\roninasaurus\\appdata\\local\\programs\\python\\python39\\lib\\site-packages)\n",
      "WARNING: Ignoring invalid distribution -pencv-python (c:\\users\\roninasaurus\\appdata\\local\\programs\\python\\python39\\lib\\site-packages)\n",
      "WARNING: Ignoring invalid distribution -pencv-python (c:\\users\\roninasaurus\\appdata\\local\\programs\\python\\python39\\lib\\site-packages)\n",
      "WARNING: Ignoring invalid distribution -pencv-python (c:\\users\\roninasaurus\\appdata\\local\\programs\\python\\python39\\lib\\site-packages)\n",
      "WARNING: Ignoring invalid distribution -pencv-python (c:\\users\\roninasaurus\\appdata\\local\\programs\\python\\python39\\lib\\site-packages)\n",
      "WARNING: Ignoring invalid distribution -pencv-python (c:\\users\\roninasaurus\\appdata\\local\\programs\\python\\python39\\lib\\site-packages)\n",
      "WARNING: You are using pip version 22.0.4; however, version 25.1.1 is available.\n",
      "You should consider upgrading via the 'c:\\Users\\Roninasaurus\\AppData\\Local\\Programs\\Python\\Python39\\python.exe -m pip install --upgrade pip' command.\n"
     ]
    },
    {
     "name": "stdout",
     "output_type": "stream",
     "text": [
      "Requirement already satisfied: gradio in c:\\users\\roninasaurus\\appdata\\local\\programs\\python\\python39\\lib\\site-packages (4.44.1)\n",
      "Requirement already satisfied: matplotlib~=3.0 in c:\\users\\roninasaurus\\appdata\\local\\programs\\python\\python39\\lib\\site-packages (from gradio) (3.9.4)\n",
      "Requirement already satisfied: gradio-client==1.3.0 in c:\\users\\roninasaurus\\appdata\\local\\programs\\python\\python39\\lib\\site-packages (from gradio) (1.3.0)\n",
      "Requirement already satisfied: huggingface-hub>=0.19.3 in c:\\users\\roninasaurus\\appdata\\local\\programs\\python\\python39\\lib\\site-packages (from gradio) (0.31.4)\n",
      "Requirement already satisfied: anyio<5.0,>=3.0 in c:\\users\\roninasaurus\\appdata\\local\\programs\\python\\python39\\lib\\site-packages (from gradio) (4.9.0)\n",
      "Requirement already satisfied: urllib3~=2.0 in c:\\users\\roninasaurus\\appdata\\local\\programs\\python\\python39\\lib\\site-packages (from gradio) (2.4.0)\n",
      "Requirement already satisfied: pydantic>=2.0 in c:\\users\\roninasaurus\\appdata\\local\\programs\\python\\python39\\lib\\site-packages (from gradio) (2.11.4)\n",
      "Requirement already satisfied: pillow<11.0,>=8.0 in c:\\users\\roninasaurus\\appdata\\local\\programs\\python\\python39\\lib\\site-packages (from gradio) (10.4.0)\n",
      "Requirement already satisfied: pandas<3.0,>=1.0 in c:\\users\\roninasaurus\\appdata\\local\\programs\\python\\python39\\lib\\site-packages (from gradio) (2.2.3)\n",
      "Requirement already satisfied: python-multipart>=0.0.9 in c:\\users\\roninasaurus\\appdata\\local\\programs\\python\\python39\\lib\\site-packages (from gradio) (0.0.20)\n",
      "Requirement already satisfied: pydub in c:\\users\\roninasaurus\\appdata\\local\\programs\\python\\python39\\lib\\site-packages (from gradio) (0.25.1)\n",
      "Requirement already satisfied: packaging in c:\\users\\roninasaurus\\appdata\\local\\programs\\python\\python39\\lib\\site-packages (from gradio) (24.2)\n",
      "Requirement already satisfied: ruff>=0.2.2 in c:\\users\\roninasaurus\\appdata\\local\\programs\\python\\python39\\lib\\site-packages (from gradio) (0.11.10)\n",
      "Requirement already satisfied: typer<1.0,>=0.12 in c:\\users\\roninasaurus\\appdata\\local\\programs\\python\\python39\\lib\\site-packages (from gradio) (0.15.4)\n",
      "Requirement already satisfied: semantic-version~=2.0 in c:\\users\\roninasaurus\\appdata\\local\\programs\\python\\python39\\lib\\site-packages (from gradio) (2.10.0)\n",
      "Requirement already satisfied: httpx>=0.24.1 in c:\\users\\roninasaurus\\appdata\\local\\programs\\python\\python39\\lib\\site-packages (from gradio) (0.28.1)\n",
      "Requirement already satisfied: pyyaml<7.0,>=5.0 in c:\\users\\roninasaurus\\appdata\\local\\programs\\python\\python39\\lib\\site-packages (from gradio) (6.0.2)\n",
      "Requirement already satisfied: ffmpy in c:\\users\\roninasaurus\\appdata\\local\\programs\\python\\python39\\lib\\site-packages (from gradio) (0.5.0)\n",
      "Requirement already satisfied: importlib-resources<7.0,>=1.3 in c:\\users\\roninasaurus\\appdata\\local\\programs\\python\\python39\\lib\\site-packages (from gradio) (6.5.2)\n",
      "Requirement already satisfied: uvicorn>=0.14.0 in c:\\users\\roninasaurus\\appdata\\local\\programs\\python\\python39\\lib\\site-packages (from gradio) (0.34.2)\n",
      "Requirement already satisfied: orjson~=3.0 in c:\\users\\roninasaurus\\appdata\\local\\programs\\python\\python39\\lib\\site-packages (from gradio) (3.10.18)\n",
      "Requirement already satisfied: fastapi<1.0 in c:\\users\\roninasaurus\\appdata\\local\\programs\\python\\python39\\lib\\site-packages (from gradio) (0.115.12)\n",
      "Requirement already satisfied: markupsafe~=2.0 in c:\\users\\roninasaurus\\appdata\\local\\programs\\python\\python39\\lib\\site-packages (from gradio) (2.1.5)\n",
      "Requirement already satisfied: typing-extensions~=4.0 in c:\\users\\roninasaurus\\appdata\\local\\programs\\python\\python39\\lib\\site-packages (from gradio) (4.12.2)\n",
      "Requirement already satisfied: tomlkit==0.12.0 in c:\\users\\roninasaurus\\appdata\\local\\programs\\python\\python39\\lib\\site-packages (from gradio) (0.12.0)\n",
      "Requirement already satisfied: numpy<3.0,>=1.0 in c:\\users\\roninasaurus\\appdata\\local\\programs\\python\\python39\\lib\\site-packages (from gradio) (2.0.2)\n",
      "Requirement already satisfied: jinja2<4.0 in c:\\users\\roninasaurus\\appdata\\local\\programs\\python\\python39\\lib\\site-packages (from gradio) (3.1.6)\n",
      "Requirement already satisfied: aiofiles<24.0,>=22.0 in c:\\users\\roninasaurus\\appdata\\local\\programs\\python\\python39\\lib\\site-packages (from gradio) (23.2.1)\n",
      "Requirement already satisfied: fsspec in c:\\users\\roninasaurus\\appdata\\local\\programs\\python\\python39\\lib\\site-packages (from gradio-client==1.3.0->gradio) (2025.5.0)\n",
      "Requirement already satisfied: websockets<13.0,>=10.0 in c:\\users\\roninasaurus\\appdata\\local\\programs\\python\\python39\\lib\\site-packages (from gradio-client==1.3.0->gradio) (12.0)\n",
      "Requirement already satisfied: idna>=2.8 in c:\\users\\roninasaurus\\appdata\\local\\programs\\python\\python39\\lib\\site-packages (from anyio<5.0,>=3.0->gradio) (3.10)\n",
      "Requirement already satisfied: sniffio>=1.1 in c:\\users\\roninasaurus\\appdata\\local\\programs\\python\\python39\\lib\\site-packages (from anyio<5.0,>=3.0->gradio) (1.3.1)\n",
      "Requirement already satisfied: exceptiongroup>=1.0.2 in c:\\users\\roninasaurus\\appdata\\roaming\\python\\python39\\site-packages (from anyio<5.0,>=3.0->gradio) (1.2.2)\n",
      "Requirement already satisfied: starlette<0.47.0,>=0.40.0 in c:\\users\\roninasaurus\\appdata\\local\\programs\\python\\python39\\lib\\site-packages (from fastapi<1.0->gradio) (0.46.2)\n",
      "Requirement already satisfied: certifi in c:\\users\\roninasaurus\\appdata\\local\\programs\\python\\python39\\lib\\site-packages (from httpx>=0.24.1->gradio) (2025.1.31)\n",
      "Requirement already satisfied: httpcore==1.* in c:\\users\\roninasaurus\\appdata\\local\\programs\\python\\python39\\lib\\site-packages (from httpx>=0.24.1->gradio) (1.0.9)\n",
      "Requirement already satisfied: h11>=0.16 in c:\\users\\roninasaurus\\appdata\\local\\programs\\python\\python39\\lib\\site-packages (from httpcore==1.*->httpx>=0.24.1->gradio) (0.16.0)\n",
      "Requirement already satisfied: requests in c:\\users\\roninasaurus\\appdata\\local\\programs\\python\\python39\\lib\\site-packages (from huggingface-hub>=0.19.3->gradio) (2.32.3)\n",
      "Requirement already satisfied: filelock in c:\\users\\roninasaurus\\appdata\\local\\programs\\python\\python39\\lib\\site-packages (from huggingface-hub>=0.19.3->gradio) (3.18.0)\n",
      "Requirement already satisfied: tqdm>=4.42.1 in c:\\users\\roninasaurus\\appdata\\local\\programs\\python\\python39\\lib\\site-packages (from huggingface-hub>=0.19.3->gradio) (4.67.1)\n",
      "Requirement already satisfied: zipp>=3.1.0 in c:\\users\\roninasaurus\\appdata\\local\\programs\\python\\python39\\lib\\site-packages (from importlib-resources<7.0,>=1.3->gradio) (3.21.0)\n",
      "Requirement already satisfied: kiwisolver>=1.3.1 in c:\\users\\roninasaurus\\appdata\\local\\programs\\python\\python39\\lib\\site-packages (from matplotlib~=3.0->gradio) (1.4.7)\n",
      "Requirement already satisfied: contourpy>=1.0.1 in c:\\users\\roninasaurus\\appdata\\local\\programs\\python\\python39\\lib\\site-packages (from matplotlib~=3.0->gradio) (1.3.0)\n",
      "Requirement already satisfied: python-dateutil>=2.7 in c:\\users\\roninasaurus\\appdata\\roaming\\python\\python39\\site-packages (from matplotlib~=3.0->gradio) (2.9.0.post0)\n",
      "Requirement already satisfied: pyparsing>=2.3.1 in c:\\users\\roninasaurus\\appdata\\local\\programs\\python\\python39\\lib\\site-packages (from matplotlib~=3.0->gradio) (3.2.1)\n",
      "Requirement already satisfied: cycler>=0.10 in c:\\users\\roninasaurus\\appdata\\local\\programs\\python\\python39\\lib\\site-packages (from matplotlib~=3.0->gradio) (0.12.1)\n",
      "Requirement already satisfied: fonttools>=4.22.0 in c:\\users\\roninasaurus\\appdata\\local\\programs\\python\\python39\\lib\\site-packages (from matplotlib~=3.0->gradio) (4.56.0)\n",
      "Requirement already satisfied: tzdata>=2022.7 in c:\\users\\roninasaurus\\appdata\\local\\programs\\python\\python39\\lib\\site-packages (from pandas<3.0,>=1.0->gradio) (2025.1)\n",
      "Requirement already satisfied: pytz>=2020.1 in c:\\users\\roninasaurus\\appdata\\local\\programs\\python\\python39\\lib\\site-packages (from pandas<3.0,>=1.0->gradio) (2025.1)\n",
      "Requirement already satisfied: annotated-types>=0.6.0 in c:\\users\\roninasaurus\\appdata\\local\\programs\\python\\python39\\lib\\site-packages (from pydantic>=2.0->gradio) (0.7.0)\n",
      "Requirement already satisfied: pydantic-core==2.33.2 in c:\\users\\roninasaurus\\appdata\\local\\programs\\python\\python39\\lib\\site-packages (from pydantic>=2.0->gradio) (2.33.2)\n",
      "Requirement already satisfied: typing-inspection>=0.4.0 in c:\\users\\roninasaurus\\appdata\\local\\programs\\python\\python39\\lib\\site-packages (from pydantic>=2.0->gradio) (0.4.0)\n",
      "Requirement already satisfied: click<8.2,>=8.0.0 in c:\\users\\roninasaurus\\appdata\\local\\programs\\python\\python39\\lib\\site-packages (from typer<1.0,>=0.12->gradio) (8.1.8)\n",
      "Requirement already satisfied: shellingham>=1.3.0 in c:\\users\\roninasaurus\\appdata\\local\\programs\\python\\python39\\lib\\site-packages (from typer<1.0,>=0.12->gradio) (1.5.4)\n",
      "Requirement already satisfied: rich>=10.11.0 in c:\\users\\roninasaurus\\appdata\\local\\programs\\python\\python39\\lib\\site-packages (from typer<1.0,>=0.12->gradio) (13.9.4)\n",
      "Requirement already satisfied: colorama in c:\\users\\roninasaurus\\appdata\\roaming\\python\\python39\\site-packages (from click<8.2,>=8.0.0->typer<1.0,>=0.12->gradio) (0.4.6)\n",
      "Requirement already satisfied: six>=1.5 in c:\\users\\roninasaurus\\appdata\\local\\programs\\python\\python39\\lib\\site-packages (from python-dateutil>=2.7->matplotlib~=3.0->gradio) (1.17.0)\n",
      "Requirement already satisfied: markdown-it-py>=2.2.0 in c:\\users\\roninasaurus\\appdata\\local\\programs\\python\\python39\\lib\\site-packages (from rich>=10.11.0->typer<1.0,>=0.12->gradio) (3.0.0)\n",
      "Requirement already satisfied: pygments<3.0.0,>=2.13.0 in c:\\users\\roninasaurus\\appdata\\local\\programs\\python\\python39\\lib\\site-packages (from rich>=10.11.0->typer<1.0,>=0.12->gradio) (2.19.1)\n",
      "Requirement already satisfied: charset-normalizer<4,>=2 in c:\\users\\roninasaurus\\appdata\\local\\programs\\python\\python39\\lib\\site-packages (from requests->huggingface-hub>=0.19.3->gradio) (3.4.1)\n",
      "Requirement already satisfied: mdurl~=0.1 in c:\\users\\roninasaurus\\appdata\\local\\programs\\python\\python39\\lib\\site-packages (from markdown-it-py>=2.2.0->rich>=10.11.0->typer<1.0,>=0.12->gradio) (0.1.2)\n",
      "Note: you may need to restart the kernel to use updated packages.\n"
     ]
    },
    {
     "name": "stderr",
     "output_type": "stream",
     "text": [
      "c:\\Users\\Roninasaurus\\AppData\\Local\\Programs\\Python\\Python39\\lib\\site-packages\\tqdm\\auto.py:21: TqdmWarning: IProgress not found. Please update jupyter and ipywidgets. See https://ipywidgets.readthedocs.io/en/stable/user_install.html\n",
      "  from .autonotebook import tqdm as notebook_tqdm\n"
     ]
    },
    {
     "name": "stdout",
     "output_type": "stream",
     "text": [
      "Running on local URL:  http://127.0.0.1:7860\n",
      "\n",
      "To create a public link, set `share=True` in `launch()`.\n"
     ]
    },
    {
     "data": {
      "text/html": [
       "<div><iframe src=\"http://127.0.0.1:7860/\" width=\"100%\" height=\"500\" allow=\"autoplay; camera; microphone; clipboard-read; clipboard-write;\" frameborder=\"0\" allowfullscreen></iframe></div>"
      ],
      "text/plain": [
       "<IPython.core.display.HTML object>"
      ]
     },
     "metadata": {},
     "output_type": "display_data"
    },
    {
     "data": {
      "text/plain": []
     },
     "execution_count": 1,
     "metadata": {},
     "output_type": "execute_result"
    }
   ],
   "source": [
    "# Installing dependency\n",
    "%pip install gradio\n",
    "\n",
    "import gradio as gr\n",
    "\n",
    "def greet(name):\n",
    "    \"\"\"Returns \"Hello, World!\" and the user's name\"\"\"\n",
    "    return f\"Hello, World! Nice to meet you, {name}!\"\n",
    "\n",
    "# Create a Gradio interface with a text input and text output\n",
    "demo = gr.Interface(\n",
    "    fn=greet,\n",
    "    inputs=gr.Textbox(placeholder=\"Enter your name here...\"),\n",
    "    outputs=\"text\",\n",
    "    title=\"Hello World through Gradio\",\n",
    "    description=\"Enter your name to get personalized greeting\"\n",
    ")\n",
    "\n",
    "# Launch the app\n",
    "demo.launch()"
   ]
  }
 ],
 "metadata": {
  "kernelspec": {
   "display_name": "py310_env",
   "language": "python",
   "name": "python3"
  },
  "language_info": {
   "codemirror_mode": {
    "name": "ipython",
    "version": 3
   },
   "file_extension": ".py",
   "mimetype": "text/x-python",
   "name": "python",
   "nbconvert_exporter": "python",
   "pygments_lexer": "ipython3",
   "version": "3.10.16"
  }
 },
 "nbformat": 4,
 "nbformat_minor": 5
}
