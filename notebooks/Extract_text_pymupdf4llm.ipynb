{
 "cells": [
  {
   "cell_type": "code",
   "execution_count": 1,
   "id": "65606af3",
   "metadata": {},
   "outputs": [],
   "source": [
    "import pymupdf4llm"
   ]
  },
  {
   "cell_type": "markdown",
   "id": "e8b70b46",
   "metadata": {},
   "source": [
    "### Generate text to markdown"
   ]
  },
  {
   "cell_type": "code",
   "execution_count": 2,
   "id": "48607d69",
   "metadata": {},
   "outputs": [],
   "source": [
    "md_text = pymupdf4llm.to_markdown(\"..\\\\data\\\\pdfs\\\\Starting Out with Python, Global Edition, 4th Edition.pdf\")\n",
    "\n",
    "# print(md_text) \n",
    "# Save the markdown text to a file\n",
    "with open(\"output.md\", \"w\", encoding=\"utf-8\") as f:\n",
    "    f.write(md_text)"
   ]
  },
  {
   "cell_type": "markdown",
   "id": "58d6331f",
   "metadata": {},
   "source": [
    "### Generate text compatible with LlamaIndex "
   ]
  },
  {
   "cell_type": "code",
   "execution_count": 4,
   "id": "a49a0125",
   "metadata": {},
   "outputs": [
    {
     "name": "stdout",
     "output_type": "stream",
     "text": [
      "Successfully imported LlamaIndex\n"
     ]
    }
   ],
   "source": [
    "llama_reader = pymupdf4llm.LlamaMarkdownReader()\n",
    "llama_docs = llama_reader.load_data(\"..\\\\data\\\\pdfs\\\\Starting Out with Python, Global Edition, 4th Edition.pdf\")"
   ]
  },
  {
   "cell_type": "code",
   "execution_count": 5,
   "id": "dc600301",
   "metadata": {},
   "outputs": [
    {
     "name": "stdout",
     "output_type": "stream",
     "text": [
      "Number of documents loaded: 748\n"
     ]
    }
   ],
   "source": [
    "print(f\"Number of documents loaded: {len(llama_docs)}\")"
   ]
  },
  {
   "cell_type": "code",
   "execution_count": 15,
   "id": "421ee52c",
   "metadata": {},
   "outputs": [
    {
     "name": "stdout",
     "output_type": "stream",
     "text": [
      "2.6 Reading Input from the Keyboard **73**\n",
      "\n",
      "Notice the last character in the string, inside the quote marks, is a space. The same is true\n",
      "for the following string, used as prompt in line 5:\n",
      "\n",
      "'Enter your last name: '\n",
      "\n",
      "We put a space character at the end of each string because the input function does not\n",
      "automatically display a space after the prompt. When the user begins typing characters,\n",
      "they appear on the screen immediately after the prompt. Making the last character in the\n",
      "prompt a space visually separates the prompt from the user’s input on the screen.\n",
      "\n",
      "**Reading Numbers with the input Function**\n",
      "\n",
      "The input function always returns the user’s input as a string, even if the user enters\n",
      "numeric data. For example, suppose you call the input function, type the number 72, and\n",
      "press the Enter key. The value that is returned from the input function is the string '72' .\n",
      "This can be a problem if you want to use the value in a math operation. Math operations\n",
      "can be performed only on numeric v\n"
     ]
    }
   ],
   "source": [
    "print(llama_docs[75].text[:1000])  # Print the first 1000 characters of the first document"
   ]
  }
 ],
 "metadata": {
  "kernelspec": {
   "display_name": "py310_env",
   "language": "python",
   "name": "python3"
  },
  "language_info": {
   "codemirror_mode": {
    "name": "ipython",
    "version": 3
   },
   "file_extension": ".py",
   "mimetype": "text/x-python",
   "name": "python",
   "nbconvert_exporter": "python",
   "pygments_lexer": "ipython3",
   "version": "3.10.16"
  }
 },
 "nbformat": 4,
 "nbformat_minor": 5
}
