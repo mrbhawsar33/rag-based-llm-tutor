{
 "cells": [
  {
   "cell_type": "markdown",
   "id": "8459f277",
   "metadata": {},
   "source": [
    "### Imports"
   ]
  },
  {
   "cell_type": "code",
   "execution_count": 29,
   "id": "1862d928",
   "metadata": {},
   "outputs": [],
   "source": [
    "import numpy as np\n",
    "from sentence_transformers import SentenceTransformer\n",
    "from sklearn.metrics.pairwise import cosine_similarity"
   ]
  },
  {
   "cell_type": "markdown",
   "id": "8a2b4602",
   "metadata": {},
   "source": [
    "### 1. Load the pre-trained Sentence-BERT model"
   ]
  },
  {
   "cell_type": "code",
   "execution_count": 30,
   "id": "51361c08",
   "metadata": {},
   "outputs": [
    {
     "name": "stdout",
     "output_type": "stream",
     "text": [
      "Loading Sentence-BERT model (all-MiniLM-L6-v2)...\n",
      "Model loaded.\n"
     ]
    }
   ],
   "source": [
    "# 'all-MiniLM-L6-v2' since it's a good balance of size and performance\n",
    "print(\"Loading Sentence-BERT model (all-MiniLM-L6-v2)...\")\n",
    "model = SentenceTransformer('all-MiniLM-L6-v2')\n",
    "print(\"Model loaded.\")"
   ]
  },
  {
   "cell_type": "markdown",
   "id": "11debb0b",
   "metadata": {},
   "source": [
    "### 2. Define some sample sentences"
   ]
  },
  {
   "cell_type": "code",
   "execution_count": 31,
   "id": "da178177",
   "metadata": {},
   "outputs": [],
   "source": [
    "sample_sentences = [\n",
    "    \"Python variables are used to store data.\",\n",
    "    \"How to define a function in Python?\",\n",
    "    \"A variable is a named storage location.\",\n",
    "    \"What is the syntax for creating a function in Python?\",\n",
    "    \"Computers are good at math.\",\n",
    "    \"Programmers prefer DARK themes because LIGHT attracts 'bugs'!\"\n",
    "]"
   ]
  },
  {
   "cell_type": "markdown",
   "id": "8314af65",
   "metadata": {},
   "source": [
    "### 3. Generate embeddings for the sentences"
   ]
  },
  {
   "cell_type": "code",
   "execution_count": 32,
   "id": "ef0938cc",
   "metadata": {},
   "outputs": [],
   "source": [
    "sentence_embeddings = model.encode(sample_sentences)"
   ]
  },
  {
   "cell_type": "markdown",
   "id": "40daf048",
   "metadata": {},
   "source": [
    "### 4. Print the shape of the embeddings and first embedding"
   ]
  },
  {
   "cell_type": "code",
   "execution_count": 33,
   "id": "d803722a",
   "metadata": {},
   "outputs": [
    {
     "name": "stdout",
     "output_type": "stream",
     "text": [
      "Shape of embeddings: (6, 384)\n",
      "\n",
      "First embedding (partial):\n",
      "[-0.01797274  0.03773345 -0.10313956  0.05437659 -0.05526058 -0.0748354\n",
      "  0.04968969  0.03465347  0.00623344 -0.01089949]\n"
     ]
    }
   ],
   "source": [
    "# The shape will be (number_of_sentences, embedding_dimension)\n",
    "# For all-MiniLM-L6-v2, the embedding dimension is 384.\n",
    "print(f\"Shape of embeddings: {sentence_embeddings.shape}\") # Expected: (6, 384)\n",
    "\n",
    "print(\"\\nFirst embedding (partial):\")\n",
    "print(sentence_embeddings[0][:10]) # Print first 10 dimensions"
   ]
  },
  {
   "cell_type": "markdown",
   "id": "6ba7ace5",
   "metadata": {},
   "source": [
    "### 5. Calculate cosine similarity between embeddings"
   ]
  },
  {
   "cell_type": "code",
   "execution_count": 34,
   "id": "52429d28",
   "metadata": {},
   "outputs": [
    {
     "name": "stdout",
     "output_type": "stream",
     "text": [
      "\n",
      "Calculated similarities:\n",
      "\n",
      "'Python variables are used to store data.' vs 'Python variables are used to store data.' \n",
      " > Similarity = 1.0000\n",
      "\n",
      "'Python variables are used to store data.' vs 'How to define a function in Python?' \n",
      " > Similarity = 0.4416\n",
      "\n",
      "'Python variables are used to store data.' vs 'A variable is a named storage location.' \n",
      " > Similarity = 0.6705\n",
      "\n",
      "'Python variables are used to store data.' vs 'What is the syntax for creating a function in Python?' \n",
      " > Similarity = 0.4966\n",
      "\n",
      "'Python variables are used to store data.' vs 'Computers are good at math.' \n",
      " > Similarity = 0.2396\n",
      "\n",
      "'Python variables are used to store data.' vs 'Programmers prefer DARK themes because LIGHT attracts 'bugs'!' \n",
      " > Similarity = 0.0861\n"
     ]
    }
   ],
   "source": [
    "# Cosine similarity measures the cosine of the angle between two vectors.\n",
    "# Values closer to 1 indicate higher similarity.\n",
    "print(\"\\nCalculated similarities:\")\n",
    "\n",
    "# Compare sentence 0 (\"Python variables...\") with others\n",
    "embedding_0 = sentence_embeddings[0].reshape(1, -1) # Reshape for cosine_similarity\n",
    "for i, embedding in enumerate(sentence_embeddings):\n",
    "    similarity = cosine_similarity(embedding_0, embedding.reshape(1, -1))[0][0]\n",
    "    print(f\"\\n'{sample_sentences[0]}' vs '{sample_sentences[i]}' \\n > Similarity = {similarity:.4f}\")"
   ]
  }
 ],
 "metadata": {
  "kernelspec": {
   "display_name": "py310_env",
   "language": "python",
   "name": "python3"
  },
  "language_info": {
   "codemirror_mode": {
    "name": "ipython",
    "version": 3
   },
   "file_extension": ".py",
   "mimetype": "text/x-python",
   "name": "python",
   "nbconvert_exporter": "python",
   "pygments_lexer": "ipython3",
   "version": "3.10.16"
  }
 },
 "nbformat": 4,
 "nbformat_minor": 5
}
