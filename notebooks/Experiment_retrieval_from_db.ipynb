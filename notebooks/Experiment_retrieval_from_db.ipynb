{
 "cells": [
  {
   "cell_type": "code",
   "execution_count": 1,
   "id": "2221e2f8",
   "metadata": {},
   "outputs": [],
   "source": [
    "import chromadb\n",
    "from chromadb.config import Settings\n",
    "from transformers import AutoTokenizer, AutoModel\n",
    "import torch\n",
    "\n",
    "# Step 1: Initialize Hugging Face model and tokenizer for embeddings\n",
    "def initialize_embedding_model():\n",
    "    model_name = \"sentence-transformers/all-MiniLM-L6-v2\"\n",
    "    tokenizer = AutoTokenizer.from_pretrained(model_name)\n",
    "    model = AutoModel.from_pretrained(model_name)\n",
    "    return tokenizer, model\n",
    "\n",
    "# Step 2: Generate embeddings for query text\n",
    "def get_embeddings(text, tokenizer, model):\n",
    "    inputs = tokenizer(text, return_tensors=\"pt\", padding=True, truncation=True, max_length=512)\n",
    "    with torch.no_grad():\n",
    "        outputs = model(**inputs)\n",
    "    embeddings = outputs.last_hidden_state.mean(dim=1).squeeze().numpy()\n",
    "    return embeddings\n",
    "\n",
    "# Step 3: Query the ChromaDB collection\n",
    "def query_knowledge_base(query, collection_name=\"python_tutor\", persist_directory=\"../data/chroma_db2\", n_results=5):\n",
    "    # Initialize ChromaDB PersistentClient\n",
    "    client = chromadb.PersistentClient(path=persist_directory)\n",
    "    \n",
    "    try:\n",
    "        # Access the collection\n",
    "        collection = client.get_or_create_collection(name=collection_name)\n",
    "    except Exception as e:\n",
    "        print(f\"Error accessing collection: {e}\")\n",
    "        return []\n",
    "\n",
    "    # Initialize embedding model\n",
    "    tokenizer, model = initialize_embedding_model()\n",
    "    \n",
    "    # Generate query embedding\n",
    "    query_embedding = get_embeddings(query, tokenizer, model)\n",
    "    \n",
    "    # Query the collection\n",
    "    results = collection.query(\n",
    "        query_embeddings=[query_embedding.tolist()],\n",
    "        n_results=n_results\n",
    "    )\n",
    "    \n",
    "    # Format and return results\n",
    "    formatted_results = []\n",
    "    for i, (doc, metadata, distance) in enumerate(zip(results['documents'][0], results['metadatas'][0], results['distances'][0])):\n",
    "        formatted_results.append({\n",
    "            'rank': i + 1,\n",
    "            'text': doc,\n",
    "            'source': metadata.get('source', 'Unknown'),\n",
    "            'section': metadata.get('section', 'Unknown'),\n",
    "            'chunk_id': metadata.get('chunk_id', 'Unknown'),\n",
    "            'similarity_score': 1 - distance  # Convert distance to similarity (assuming cosine distance)\n",
    "        })\n",
    "    return formatted_results"
   ]
  },
  {
   "cell_type": "code",
   "execution_count": 2,
   "id": "ce1660fe",
   "metadata": {},
   "outputs": [
    {
     "name": "stdout",
     "output_type": "stream",
     "text": [
      "Query: How do I define a function in Python?\n",
      "\n"
     ]
    }
   ],
   "source": [
    "# Step 4: Test the query function with a sample question\n",
    "query = \"How do I define a function in Python?\"\n",
    "results = query_knowledge_base(query)\n",
    "\n",
    "# Display results\n",
    "print(f\"Query: {query}\\n\")\n",
    "for result in results:\n",
    "    print(f\"Rank: {result['rank']}\")\n",
    "    print(f\"Source: {result['source']}\")\n",
    "    print(f\"Section: {result['section']}\")\n",
    "    print(f\"Chunk ID: {result['chunk_id']}\")\n",
    "    print(f\"Similarity Score: {result['similarity_score']:.4f}\")\n",
    "    print(f\"Text: {result['text'][:500]}...\")  # Truncate for readability\n",
    "    print(\"-\" * 80)"
   ]
  }
 ],
 "metadata": {
  "kernelspec": {
   "display_name": "py310_env",
   "language": "python",
   "name": "python3"
  },
  "language_info": {
   "codemirror_mode": {
    "name": "ipython",
    "version": 3
   },
   "file_extension": ".py",
   "mimetype": "text/x-python",
   "name": "python",
   "nbconvert_exporter": "python",
   "pygments_lexer": "ipython3",
   "version": "3.10.16"
  }
 },
 "nbformat": 4,
 "nbformat_minor": 5
}
