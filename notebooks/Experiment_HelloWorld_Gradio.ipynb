{
 "cells": [
  {
   "cell_type": "code",
   "execution_count": null,
   "id": "24f09376",
   "metadata": {},
   "outputs": [
    {
     "name": "stdout",
     "output_type": "stream",
     "text": [
      "Requirement already satisfied: gradio in c:\\users\\roninasaurus\\anaconda3\\envs\\py310_env\\lib\\site-packages (5.31.0)\n",
      "Requirement already satisfied: aiofiles<25.0,>=22.0 in c:\\users\\roninasaurus\\anaconda3\\envs\\py310_env\\lib\\site-packages (from gradio) (24.1.0)\n",
      "Requirement already satisfied: anyio<5.0,>=3.0 in c:\\users\\roninasaurus\\anaconda3\\envs\\py310_env\\lib\\site-packages (from gradio) (4.9.0)\n",
      "Requirement already satisfied: fastapi<1.0,>=0.115.2 in c:\\users\\roninasaurus\\anaconda3\\envs\\py310_env\\lib\\site-packages (from gradio) (0.115.9)\n",
      "Requirement already satisfied: ffmpy in c:\\users\\roninasaurus\\anaconda3\\envs\\py310_env\\lib\\site-packages (from gradio) (0.5.0)\n",
      "Requirement already satisfied: gradio-client==1.10.1 in c:\\users\\roninasaurus\\anaconda3\\envs\\py310_env\\lib\\site-packages (from gradio) (1.10.1)\n",
      "Requirement already satisfied: groovy~=0.1 in c:\\users\\roninasaurus\\anaconda3\\envs\\py310_env\\lib\\site-packages (from gradio) (0.1.2)\n",
      "Requirement already satisfied: httpx>=0.24.1 in c:\\users\\roninasaurus\\anaconda3\\envs\\py310_env\\lib\\site-packages (from gradio) (0.28.1)\n",
      "Requirement already satisfied: huggingface-hub>=0.28.1 in c:\\users\\roninasaurus\\anaconda3\\envs\\py310_env\\lib\\site-packages (from gradio) (0.32.0)\n",
      "Requirement already satisfied: jinja2<4.0 in c:\\users\\roninasaurus\\anaconda3\\envs\\py310_env\\lib\\site-packages (from gradio) (3.1.6)\n",
      "Requirement already satisfied: markupsafe<4.0,>=2.0 in c:\\users\\roninasaurus\\anaconda3\\envs\\py310_env\\lib\\site-packages (from gradio) (3.0.2)\n",
      "Requirement already satisfied: numpy<3.0,>=1.0 in c:\\users\\roninasaurus\\anaconda3\\envs\\py310_env\\lib\\site-packages (from gradio) (1.26.4)\n",
      "Requirement already satisfied: orjson~=3.0 in c:\\users\\roninasaurus\\anaconda3\\envs\\py310_env\\lib\\site-packages (from gradio) (3.10.18)\n",
      "Requirement already satisfied: packaging in c:\\users\\roninasaurus\\anaconda3\\envs\\py310_env\\lib\\site-packages (from gradio) (25.0)\n",
      "Requirement already satisfied: pandas<3.0,>=1.0 in c:\\users\\roninasaurus\\anaconda3\\envs\\py310_env\\lib\\site-packages (from gradio) (2.2.3)\n",
      "Requirement already satisfied: pillow<12.0,>=8.0 in c:\\users\\roninasaurus\\anaconda3\\envs\\py310_env\\lib\\site-packages (from gradio) (11.2.1)\n",
      "Requirement already satisfied: pydantic<2.12,>=2.0 in c:\\users\\roninasaurus\\anaconda3\\envs\\py310_env\\lib\\site-packages (from gradio) (2.11.5)\n",
      "Requirement already satisfied: pydub in c:\\users\\roninasaurus\\anaconda3\\envs\\py310_env\\lib\\site-packages (from gradio) (0.25.1)\n",
      "Requirement already satisfied: python-multipart>=0.0.18 in c:\\users\\roninasaurus\\anaconda3\\envs\\py310_env\\lib\\site-packages (from gradio) (0.0.20)\n",
      "Requirement already satisfied: pyyaml<7.0,>=5.0 in c:\\users\\roninasaurus\\anaconda3\\envs\\py310_env\\lib\\site-packages (from gradio) (6.0.2)\n",
      "Requirement already satisfied: ruff>=0.9.3 in c:\\users\\roninasaurus\\anaconda3\\envs\\py310_env\\lib\\site-packages (from gradio) (0.11.11)\n",
      "Requirement already satisfied: safehttpx<0.2.0,>=0.1.6 in c:\\users\\roninasaurus\\anaconda3\\envs\\py310_env\\lib\\site-packages (from gradio) (0.1.6)\n",
      "Requirement already satisfied: semantic-version~=2.0 in c:\\users\\roninasaurus\\anaconda3\\envs\\py310_env\\lib\\site-packages (from gradio) (2.10.0)\n",
      "Requirement already satisfied: starlette<1.0,>=0.40.0 in c:\\users\\roninasaurus\\anaconda3\\envs\\py310_env\\lib\\site-packages (from gradio) (0.45.3)\n",
      "Requirement already satisfied: tomlkit<0.14.0,>=0.12.0 in c:\\users\\roninasaurus\\anaconda3\\envs\\py310_env\\lib\\site-packages (from gradio) (0.13.2)\n",
      "Requirement already satisfied: typer<1.0,>=0.12 in c:\\users\\roninasaurus\\anaconda3\\envs\\py310_env\\lib\\site-packages (from gradio) (0.15.4)\n",
      "Requirement already satisfied: typing-extensions~=4.0 in c:\\users\\roninasaurus\\anaconda3\\envs\\py310_env\\lib\\site-packages (from gradio) (4.13.2)\n",
      "Requirement already satisfied: uvicorn>=0.14.0 in c:\\users\\roninasaurus\\anaconda3\\envs\\py310_env\\lib\\site-packages (from gradio) (0.34.2)\n",
      "Requirement already satisfied: fsspec in c:\\users\\roninasaurus\\anaconda3\\envs\\py310_env\\lib\\site-packages (from gradio-client==1.10.1->gradio) (2025.5.0)\n",
      "Requirement already satisfied: websockets<16.0,>=10.0 in c:\\users\\roninasaurus\\anaconda3\\envs\\py310_env\\lib\\site-packages (from gradio-client==1.10.1->gradio) (15.0.1)\n",
      "Requirement already satisfied: exceptiongroup>=1.0.2 in c:\\users\\roninasaurus\\anaconda3\\envs\\py310_env\\lib\\site-packages (from anyio<5.0,>=3.0->gradio) (1.3.0)\n",
      "Requirement already satisfied: idna>=2.8 in c:\\users\\roninasaurus\\anaconda3\\envs\\py310_env\\lib\\site-packages (from anyio<5.0,>=3.0->gradio) (3.10)\n",
      "Requirement already satisfied: sniffio>=1.1 in c:\\users\\roninasaurus\\anaconda3\\envs\\py310_env\\lib\\site-packages (from anyio<5.0,>=3.0->gradio) (1.3.1)\n",
      "Requirement already satisfied: python-dateutil>=2.8.2 in c:\\users\\roninasaurus\\anaconda3\\envs\\py310_env\\lib\\site-packages (from pandas<3.0,>=1.0->gradio) (2.9.0.post0)\n",
      "Requirement already satisfied: pytz>=2020.1 in c:\\users\\roninasaurus\\anaconda3\\envs\\py310_env\\lib\\site-packages (from pandas<3.0,>=1.0->gradio) (2025.2)\n",
      "Requirement already satisfied: tzdata>=2022.7 in c:\\users\\roninasaurus\\anaconda3\\envs\\py310_env\\lib\\site-packages (from pandas<3.0,>=1.0->gradio) (2025.2)\n",
      "Requirement already satisfied: annotated-types>=0.6.0 in c:\\users\\roninasaurus\\anaconda3\\envs\\py310_env\\lib\\site-packages (from pydantic<2.12,>=2.0->gradio) (0.7.0)\n",
      "Requirement already satisfied: pydantic-core==2.33.2 in c:\\users\\roninasaurus\\anaconda3\\envs\\py310_env\\lib\\site-packages (from pydantic<2.12,>=2.0->gradio) (2.33.2)\n",
      "Requirement already satisfied: typing-inspection>=0.4.0 in c:\\users\\roninasaurus\\anaconda3\\envs\\py310_env\\lib\\site-packages (from pydantic<2.12,>=2.0->gradio) (0.4.1)\n",
      "Requirement already satisfied: click<8.2,>=8.0.0 in c:\\users\\roninasaurus\\anaconda3\\envs\\py310_env\\lib\\site-packages (from typer<1.0,>=0.12->gradio) (8.1.8)\n",
      "Requirement already satisfied: shellingham>=1.3.0 in c:\\users\\roninasaurus\\anaconda3\\envs\\py310_env\\lib\\site-packages (from typer<1.0,>=0.12->gradio) (1.5.4)\n",
      "Requirement already satisfied: rich>=10.11.0 in c:\\users\\roninasaurus\\anaconda3\\envs\\py310_env\\lib\\site-packages (from typer<1.0,>=0.12->gradio) (14.0.0)\n",
      "Requirement already satisfied: colorama in c:\\users\\roninasaurus\\anaconda3\\envs\\py310_env\\lib\\site-packages (from click<8.2,>=8.0.0->typer<1.0,>=0.12->gradio) (0.4.6)\n",
      "Requirement already satisfied: certifi in c:\\users\\roninasaurus\\anaconda3\\envs\\py310_env\\lib\\site-packages (from httpx>=0.24.1->gradio) (2025.4.26)\n",
      "Requirement already satisfied: httpcore==1.* in c:\\users\\roninasaurus\\anaconda3\\envs\\py310_env\\lib\\site-packages (from httpx>=0.24.1->gradio) (1.0.9)\n",
      "Requirement already satisfied: h11>=0.16 in c:\\users\\roninasaurus\\anaconda3\\envs\\py310_env\\lib\\site-packages (from httpcore==1.*->httpx>=0.24.1->gradio) (0.16.0)\n",
      "Requirement already satisfied: filelock in c:\\users\\roninasaurus\\anaconda3\\envs\\py310_env\\lib\\site-packages (from huggingface-hub>=0.28.1->gradio) (3.18.0)\n",
      "Requirement already satisfied: requests in c:\\users\\roninasaurus\\anaconda3\\envs\\py310_env\\lib\\site-packages (from huggingface-hub>=0.28.1->gradio) (2.32.3)\n",
      "Requirement already satisfied: tqdm>=4.42.1 in c:\\users\\roninasaurus\\anaconda3\\envs\\py310_env\\lib\\site-packages (from huggingface-hub>=0.28.1->gradio) (4.67.1)\n",
      "Requirement already satisfied: six>=1.5 in c:\\users\\roninasaurus\\anaconda3\\envs\\py310_env\\lib\\site-packages (from python-dateutil>=2.8.2->pandas<3.0,>=1.0->gradio) (1.17.0)\n",
      "Requirement already satisfied: markdown-it-py>=2.2.0 in c:\\users\\roninasaurus\\anaconda3\\envs\\py310_env\\lib\\site-packages (from rich>=10.11.0->typer<1.0,>=0.12->gradio) (3.0.0)\n",
      "Requirement already satisfied: pygments<3.0.0,>=2.13.0 in c:\\users\\roninasaurus\\anaconda3\\envs\\py310_env\\lib\\site-packages (from rich>=10.11.0->typer<1.0,>=0.12->gradio) (2.19.1)\n",
      "Requirement already satisfied: mdurl~=0.1 in c:\\users\\roninasaurus\\anaconda3\\envs\\py310_env\\lib\\site-packages (from markdown-it-py>=2.2.0->rich>=10.11.0->typer<1.0,>=0.12->gradio) (0.1.2)\n",
      "Requirement already satisfied: charset-normalizer<4,>=2 in c:\\users\\roninasaurus\\anaconda3\\envs\\py310_env\\lib\\site-packages (from requests->huggingface-hub>=0.28.1->gradio) (3.4.2)\n",
      "Requirement already satisfied: urllib3<3,>=1.21.1 in c:\\users\\roninasaurus\\anaconda3\\envs\\py310_env\\lib\\site-packages (from requests->huggingface-hub>=0.28.1->gradio) (2.4.0)\n",
      "Note: you may need to restart the kernel to use updated packages.\n",
      "* Running on local URL:  http://127.0.0.1:7860\n",
      "* To create a public link, set `share=True` in `launch()`.\n"
     ]
    },
    {
     "data": {
      "text/html": [
       "<div><iframe src=\"http://127.0.0.1:7860/\" width=\"100%\" height=\"500\" allow=\"autoplay; camera; microphone; clipboard-read; clipboard-write;\" frameborder=\"0\" allowfullscreen></iframe></div>"
      ],
      "text/plain": [
       "<IPython.core.display.HTML object>"
      ]
     },
     "metadata": {},
     "output_type": "display_data"
    },
    {
     "data": {
      "text/plain": []
     },
     "execution_count": 1,
     "metadata": {},
     "output_type": "execute_result"
    },
    {
     "ename": "",
     "evalue": "",
     "output_type": "error",
     "traceback": [
      "\u001b[1;31mThe Kernel crashed while executing code in the current cell or a previous cell. \n",
      "\u001b[1;31mPlease review the code in the cell(s) to identify a possible cause of the failure. \n",
      "\u001b[1;31mClick <a href='https://aka.ms/vscodeJupyterKernelCrash'>here</a> for more info. \n",
      "\u001b[1;31mView Jupyter <a href='command:jupyter.viewOutput'>log</a> for further details."
     ]
    }
   ],
   "source": [
    "# Installing dependency\n",
    "%pip install gradio\n",
    "\n",
    "import gradio as gr\n",
    "\n",
    "def greet(name):\n",
    "    \"\"\"Returns \"Hello, World!\" and the user's name\"\"\"\n",
    "    return f\"Hello, World! Nice to meet you, {name}!\"\n",
    "\n",
    "# Create a Gradio interface with a text input and text output\n",
    "demo = gr.Interface(\n",
    "    fn=greet,\n",
    "    inputs=gr.Textbox(placeholder=\"Enter your name here...\"),\n",
    "    outputs=\"text\",\n",
    "    title=\"Hello World through Gradio\",\n",
    "    description=\"Enter your name to get personalized greeting\"\n",
    ")\n",
    "\n",
    "# Launch the app\n",
    "demo.launch()"
   ]
  }
 ],
 "metadata": {
  "kernelspec": {
   "display_name": "py310_env",
   "language": "python",
   "name": "python3"
  },
  "language_info": {
   "codemirror_mode": {
    "name": "ipython",
    "version": 3
   },
   "file_extension": ".py",
   "mimetype": "text/x-python",
   "name": "python",
   "nbconvert_exporter": "python",
   "pygments_lexer": "ipython3",
   "version": "3.10.16"
  }
 },
 "nbformat": 4,
 "nbformat_minor": 5
}
