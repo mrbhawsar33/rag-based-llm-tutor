{
 "cells": [
  {
   "cell_type": "code",
   "execution_count": 2,
   "id": "65606af3",
   "metadata": {},
   "outputs": [],
   "source": [
    "import pymupdf4llm"
   ]
  },
  {
   "cell_type": "code",
   "execution_count": null,
   "id": "abea0959",
   "metadata": {},
   "outputs": [
    {
     "data": {
      "text/plain": [
       "'2.3 Displaying Output with the print Function **59**\\n\\nthis book are *not* part of the program. We use the line numbers in our discussion to refer\\nto parts of the program.)\\n\\nIt is important to understand that the statements in this program execute in the order that\\nthey appear, from the top of the program to the bottom. When you run this program, the first\\nstatement will execute, followed by the second statement, and followed by the third statement.\\n\\n**Strings and String Literals**\\n\\nPrograms almost always work with data of some type. For example, Program 2-1 uses the\\nfollowing three pieces of data:\\n\\n\\'Kate Austen\\'\\n\\n\\'123 Full Circle Drive\\n\\n\\'Asheville, NC 28899\\'\\n\\nThese pieces of data are sequences of characters. In programming terms, a sequence of characters that is used as data is called a *string* . When a string appears in the actual code of a program, it is called a *string literal* . In Python code, string literals must be enclosed in quote marks.\\nAs mentioned earlier, the quote marks simply mark where the string data begins and ends.\\n\\nIn Python, you can enclose string literals in a set of single-quote marks ( \\' ) or a set of\\n\\n\"\\n\\xaddouble-quote marks ( ). The string literals in Program 2-1 are enclosed in single-quote\\nmarks, but the program could also be written as shown in Program 2-2.\\n\\n\\n**60** Chapter 2  Input, Processing, and Output\\n\\nIf you want a string literal to contain either a single-quote or an apostrophe as part of the\\nstring, you can enclose the string literal in double-quote marks. For example, Program 2-3\\nprints two strings that contain apostrophes.\\n\\n**Program 2-3  (apostrophe.py)**\\n\\nLikewise, you can use single-quote marks to enclose a string literal that contains doublequotes as part of the string. Program 2-4 shows an example.\\n\\n\\n\\nPython also allows you to enclose string literals in triple quotes (either \"\"\" or \\'\\'\\' ). Triplequoted strings can contain both single quotes and double quotes as part of the string. The\\nfollowing statement shows an example:\\n\\nprint(\"\"\"I\\'m reading \"Hamlet\" tonight.\"\"\")\\n\\nThis statement will print\\n\\nI\\'m reading \"Hamlet\" tonight.\\n\\nTriple quotes can also be used to surround multiline strings, something for which single and\\ndouble quotes cannot be used. Here is an example:\\n\\nprint(\"\"\"One\\n\\nTwo\\n\\nThree\"\"\")\\n\\nThis statement will print\\n\\nOne\\n\\nTwo\\n\\nThree\\n\\n'"
      ]
     },
     "execution_count": 6,
     "metadata": {},
     "output_type": "execute_result"
    }
   ],
   "source": [
    "md_txt_pdf1_page59 = pymupdf4llm.to_markdown(\"../data/pdfs/Starting Out with Python, Global Edition, 4th Edition.pdf\", pages=[61,62])\n",
    "\n",
    "\n",
    "md_txt_pdf1_page59"
   ]
  },
  {
   "cell_type": "markdown",
   "id": "6c1242e4",
   "metadata": {},
   "source": [
    "2.3 Displaying Output with the print Function **59**\\n\\nthis book are *not* part of the program. We use the line numbers in our discussion to refer\\nto parts of the program.)\\n\\nIt is important to understand that the statements in this program execute in the order that\\nthey appear, from the top of the program to the bottom. When you run this program, the first\\nstatement will execute, followed by the second statement, and followed by the third statement.\\n\\n**Strings and String Literals**\\n\\nPrograms almost always work with data of some type. For example, Program 2-1 uses the\\nfollowing three pieces of data:\\n\\n\\'Kate Austen\\'\\n\\n\\'123 Full Circle Drive\\n\\n\\'Asheville, NC 28899\\'\\n\\nThese pieces of data are sequences of characters. In programming terms, a sequence of characters that is used as data is called a *string* . When a string appears in the actual code of a program, it is called a *string literal* . In Python code, string literals must be enclosed in quote marks.\\nAs mentioned earlier, the quote marks simply mark where the string data begins and ends.\\n\\nIn Python, you can enclose string literals in a set of single-quote marks ( \\' ) or a set of\\n\\n\"\\n\\xaddouble-quote marks ( ). The string literals in Program 2-1 are enclosed in single-quote\\nmarks, but the program could also be written as shown in Program 2-2.\\n\\n\\n**60** Chapter 2  Input, Processing, and Output\\n\\nIf you want a string literal to contain either a single-quote or an apostrophe as part of the\\nstring, you can enclose the string literal in double-quote marks. For example, Program 2-3\\nprints two strings that contain apostrophes.\\n\\n**Program 2-3  (apostrophe.py)**\\n\\nLikewise, you can use single-quote marks to enclose a string literal that contains doublequotes as part of the string. Program 2-4 shows an example.\\n\\n\\n\\nPython also allows you to enclose string literals in triple quotes (either \"\"\" or \\'\\'\\' ). Triplequoted strings can contain both single quotes and double quotes as part of the string. The\\nfollowing statement shows an example:\\n\\nprint(\"\"\"I\\'m reading \"Hamlet\" tonight.\"\"\")\\n\\nThis statement will print\\n\\nI\\'m reading \"Hamlet\" tonight.\\n\\nTriple quotes can also be used to surround multiline strings, something for which single and\\ndouble quotes cannot be used. Here is an example:\\n\\nprint(\"\"\"One\\n\\nTwo\\n\\nThree\"\"\")\\n\\nThis statement will print\\n\\nOne\\n\\nTwo\\n\\nThree\\n\\n"
   ]
  },
  {
   "cell_type": "markdown",
   "id": "643d2223",
   "metadata": {},
   "source": [
    "### Trying out OCR for images with parsing native text (for a particular page)"
   ]
  },
  {
   "cell_type": "code",
   "execution_count": null,
   "id": "0250df88",
   "metadata": {},
   "outputs": [
    {
     "name": "stdout",
     "output_type": "stream",
     "text": [
      "Text from given page:\n",
      " 2.3 Displaying Output with the print Function  59\n",
      "this book are not part of the program. We use the line numbers in our discussion to refer \n",
      "to parts of the program.)\n",
      "Program 2-1  (output.py)\n",
      " 1  print('Kate Austen')\n",
      " 2  print('123 Full Circle Drive')\n",
      " 3  print('Asheville, NC 28899')\n",
      "Program Output\n",
      "Kate Austen\n",
      "123 Full Circle DriveAsheville, NC 28899\n",
      "It is important to understand that the statements in this program execute in the order that \n",
      "they appear, from the top of the program to the bottom. When you run this program, the first statement will execute, followed by the second statement, and followed by the third statement.\n",
      "Strings and String Literals\n",
      "Programs almost always work with data of some type. For example, Program 2-1 uses the following three pieces of data:\n",
      "'Kate Austen'\n",
      "'123 Full Circle Drive'Asheville, NC 28899'\n",
      "These pieces of data are sequences of characters. In programming terms, a sequence of char -\n",
      "acters that is used as data is called a string. When a string appears in the actual code of a pro-\n",
      "gram, it is called a string literal. In Python code, string literals must be enclosed in quote marks. As mentioned earlier, the quote marks simply mark where the string data begins and ends.\n",
      "In Python, you can enclose string literals in a set of single-quote marks (\n",
      "') or a set of \n",
      " double-quote marks ( \"). The string literals in Program 2-1 are enclosed in single-quote \n",
      "marks, but the program could also be written as shown in Program 2-2.\n",
      "Program 2-2  (double_quotes.py)\n",
      " 1  print(\"Kate Austen\")\n",
      " 2  print(\"123 Full Circle Drive\")\n",
      " 3  print(\"Asheville, NC 28899\")\n",
      "Program Output\n",
      "Kate Austen\n",
      "123 Full Circle DriveAsheville, NC 28899\n"
     ]
    }
   ],
   "source": [
    "import pypdf\n",
    "\n",
    "def extract_text_from_page(pdf_path, page_number):\n",
    "    \"\"\"\n",
    "    Extract text from a specific page of a PDF file.\n",
    "    \n",
    "    Args:\n",
    "        pdf_path (str): Path to the PDF file\n",
    "        page_number (int): Page number to extract \n",
    "    \n",
    "    Returns:\n",
    "        str: Extracted text from the specified page\n",
    "    \"\"\"\n",
    "    reader = pypdf.PdfReader(pdf_path)\n",
    "    \n",
    "    # Extract text from the specific page\n",
    "    page = reader.pages[page_number]\n",
    "    text = page.extract_text()\n",
    "    \n",
    "    return text\n",
    "\n",
    "\n",
    "\n",
    "# Example usage:\n",
    "if __name__ == \"__main__\":\n",
    "    pdf_path = \"../data/pdfs/Starting Out with Python, Global Edition, 4th Edition.pdf\"\n",
    "    \n",
    "    # Extract from page 0 (first page, 0-indexed)\n",
    "    output_text = extract_text_from_page(pdf_path, 61)\n",
    "    print(\"Text from given page:\")\n",
    "    print(output_text)\n",
    "    "
   ]
  },
  {
   "cell_type": "markdown",
   "id": "e8b70b46",
   "metadata": {},
   "source": [
    "### Generate text to markdown"
   ]
  },
  {
   "cell_type": "code",
   "execution_count": null,
   "id": "48607d69",
   "metadata": {},
   "outputs": [],
   "source": [
    "md_text = pymupdf4llm.to_markdown(\"../data/pdfs/Starting Out with Python, Global Edition, 4th Edition.pdf\")\n",
    "\n",
    "# print(md_text) \n",
    "# Save the markdown text to a file\n",
    "with open(\"../data/extracted/markdown/output.md\", \"w\", encoding=\"utf-8\") as f:\n",
    "    f.write(md_text)"
   ]
  },
  {
   "cell_type": "markdown",
   "id": "58d6331f",
   "metadata": {},
   "source": [
    "### Generate text compatible with LlamaIndex "
   ]
  },
  {
   "cell_type": "code",
   "execution_count": 7,
   "id": "a49a0125",
   "metadata": {},
   "outputs": [
    {
     "name": "stdout",
     "output_type": "stream",
     "text": [
      "Successfully imported LlamaIndex\n"
     ]
    }
   ],
   "source": [
    "llama_reader = pymupdf4llm.LlamaMarkdownReader()\n",
    "llama_docs = llama_reader.load_data(\"../data/pdfs/Starting Out with Python, Global Edition, 4th Edition.pdf\")"
   ]
  },
  {
   "cell_type": "code",
   "execution_count": 8,
   "id": "dc600301",
   "metadata": {},
   "outputs": [
    {
     "name": "stdout",
     "output_type": "stream",
     "text": [
      "Number of documents loaded: 748\n"
     ]
    }
   ],
   "source": [
    "print(f\"Number of documents loaded: {len(llama_docs)}\")"
   ]
  },
  {
   "cell_type": "code",
   "execution_count": 13,
   "id": "421ee52c",
   "metadata": {},
   "outputs": [
    {
     "name": "stdout",
     "output_type": "stream",
     "text": [
      "2.3 Displaying Output with the print Function **59**\n",
      "\n",
      "this book are *not* part of the program. We use the line numbers in our discussion to refer\n",
      "to parts of the program.)\n",
      "\n",
      "It is important to understand that the statements in this program execute in the order that\n",
      "they appear, from the top of the program to the bottom. When you run this program, the first\n",
      "statement will execute, followed by the second statement, and followed by the third statement.\n",
      "\n",
      "**Strings and String Literals**\n",
      "\n",
      "Programs almost always work with data of some type. For example, Program 2-1 uses the\n",
      "following three pieces of data:\n",
      "\n",
      "'Kate Austen'\n",
      "\n",
      "'123 Full Circle Drive\n",
      "\n",
      "'Asheville, NC 28899'\n",
      "\n",
      "These pieces of data are sequences of characters. In programming terms, a sequence of characters that is used as data is called a *string* . When a string appears in the actual code of a program, it is called a *string literal* . In Python code, string literals must be enclosed in quote marks.\n",
      "As mentioned earlier, the quote marks\n"
     ]
    }
   ],
   "source": [
    "print(llama_docs[61].text[:1000])  # Print the first 1000 characters of the first document"
   ]
  }
 ],
 "metadata": {
  "kernelspec": {
   "display_name": "py310_env",
   "language": "python",
   "name": "python3"
  },
  "language_info": {
   "codemirror_mode": {
    "name": "ipython",
    "version": 3
   },
   "file_extension": ".py",
   "mimetype": "text/x-python",
   "name": "python",
   "nbconvert_exporter": "python",
   "pygments_lexer": "ipython3",
   "version": "3.10.16"
  }
 },
 "nbformat": 4,
 "nbformat_minor": 5
}
